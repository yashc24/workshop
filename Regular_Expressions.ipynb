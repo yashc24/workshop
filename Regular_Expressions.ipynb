{
  "cells": [
    {
      "cell_type": "markdown",
      "metadata": {
        "id": "view-in-github",
        "colab_type": "text"
      },
      "source": [
        "<a href=\"https://colab.research.google.com/github/yashc24/workshop/blob/main/Regular_Expressions.ipynb\" target=\"_parent\"><img src=\"https://colab.research.google.com/assets/colab-badge.svg\" alt=\"Open In Colab\"/></a>"
      ]
    },
    {
      "cell_type": "markdown",
      "id": "7f1518b1-05be-4b91-b5fc-b7cdd3ae6863",
      "metadata": {
        "id": "7f1518b1-05be-4b91-b5fc-b7cdd3ae6863"
      },
      "source": [
        "## 1. Import Libraries"
      ]
    },
    {
      "cell_type": "code",
      "execution_count": null,
      "id": "494bf4e1-018b-4b14-954f-c9b79b650079",
      "metadata": {
        "id": "494bf4e1-018b-4b14-954f-c9b79b650079"
      },
      "outputs": [],
      "source": [
        "import re # Importing regular expression module"
      ]
    },
    {
      "cell_type": "markdown",
      "id": "d90efe96-5bb6-4980-815d-845eab51999e",
      "metadata": {
        "id": "d90efe96-5bb6-4980-815d-845eab51999e"
      },
      "source": [
        "## 2. Raw Strings"
      ]
    },
    {
      "cell_type": "code",
      "execution_count": null,
      "id": "fd984dfc-e6a4-41d9-8ee8-6c90a707c783",
      "metadata": {
        "colab": {
          "base_uri": "https://localhost:8080/"
        },
        "id": "fd984dfc-e6a4-41d9-8ee8-6c90a707c783",
        "outputId": "12714453-85d4-41d6-ebcf-79dc55d1f880"
      },
      "outputs": [
        {
          "output_type": "stream",
          "name": "stdout",
          "text": [
            "Hello\n",
            "World\n"
          ]
        }
      ],
      "source": [
        "print(\"Hello\\nWorld\") #What if r is not used before string"
      ]
    },
    {
      "cell_type": "code",
      "execution_count": null,
      "id": "df211067-f686-4588-ab06-d18a4ac7a3ca",
      "metadata": {
        "colab": {
          "base_uri": "https://localhost:8080/"
        },
        "id": "df211067-f686-4588-ab06-d18a4ac7a3ca",
        "outputId": "5832735a-c01b-4fad-8b64-56a7f0fcc194"
      },
      "outputs": [
        {
          "output_type": "stream",
          "name": "stdout",
          "text": [
            "Hello\\nWorld\n"
          ]
        }
      ],
      "source": [
        "print(r\"Hello\\nWorld\")  #What if r is used before string"
      ]
    },
    {
      "cell_type": "markdown",
      "id": "fc6109af-c97a-4b3d-8a6d-a8dc4ae794b8",
      "metadata": {
        "id": "fc6109af-c97a-4b3d-8a6d-a8dc4ae794b8"
      },
      "source": [
        "## 3. Search Operations"
      ]
    },
    {
      "cell_type": "code",
      "execution_count": null,
      "id": "eb8bb9b0-8857-4ae2-b795-42d3b3e3eb1f",
      "metadata": {
        "id": "eb8bb9b0-8857-4ae2-b795-42d3b3e3eb1f"
      },
      "outputs": [],
      "source": [
        "test_string = \"123abc456789abc123ABC\" #sample string"
      ]
    },
    {
      "cell_type": "code",
      "execution_count": null,
      "id": "267189c3-0bb3-4cca-ac8b-d096bd2c83f9",
      "metadata": {
        "id": "267189c3-0bb3-4cca-ac8b-d096bd2c83f9"
      },
      "outputs": [],
      "source": [
        "# re.match()"
      ]
    },
    {
      "cell_type": "code",
      "execution_count": null,
      "id": "4b3c8ab4-abdd-455d-8d3f-bfd34e51a338",
      "metadata": {
        "id": "4b3c8ab4-abdd-455d-8d3f-bfd34e51a338"
      },
      "outputs": [],
      "source": [
        "pattern = re.compile(r\"abc\")  #compiling\n",
        "\n",
        "match = re.match(pattern, test_string) #match gives Match object only if pattern is found at beginning else None"
      ]
    },
    {
      "cell_type": "code",
      "execution_count": null,
      "id": "931fd4cc-d17e-45d5-8da7-95035c639cca",
      "metadata": {
        "colab": {
          "base_uri": "https://localhost:8080/"
        },
        "id": "931fd4cc-d17e-45d5-8da7-95035c639cca",
        "outputId": "24c7f617-2818-42a5-de6f-8c3fb386af57"
      },
      "outputs": [
        {
          "output_type": "stream",
          "name": "stdout",
          "text": [
            "None\n"
          ]
        }
      ],
      "source": [
        "print(match)"
      ]
    },
    {
      "cell_type": "code",
      "execution_count": null,
      "id": "820c79a9-9cc8-4949-ba95-0b22bd5c5a28",
      "metadata": {
        "colab": {
          "base_uri": "https://localhost:8080/"
        },
        "id": "820c79a9-9cc8-4949-ba95-0b22bd5c5a28",
        "outputId": "0cbb92ee-5e2f-492c-b2c2-bf665bfbecd5"
      },
      "outputs": [
        {
          "output_type": "stream",
          "name": "stdout",
          "text": [
            "<re.Match object; span=(0, 3), match='123'>\n"
          ]
        }
      ],
      "source": [
        "pattern = re.compile(r\"123\")\n",
        "\n",
        "match = re.match(pattern, test_string)  #match gives Match object only if pattern is found at beginning else None\n",
        "print(match)"
      ]
    },
    {
      "cell_type": "code",
      "execution_count": null,
      "id": "f4553e7c-eda1-4939-bc42-6b61b678e7cc",
      "metadata": {
        "colab": {
          "base_uri": "https://localhost:8080/"
        },
        "id": "f4553e7c-eda1-4939-bc42-6b61b678e7cc",
        "outputId": "081a9a56-692e-43d3-e9d2-d2fd54c64291"
      },
      "outputs": [
        {
          "output_type": "execute_result",
          "data": {
            "text/plain": [
              "(0, 3)"
            ]
          },
          "metadata": {},
          "execution_count": 677
        }
      ],
      "source": [
        "match.span() #span()method of Match object which gives a tuple of start and (end+1) indices"
      ]
    },
    {
      "cell_type": "code",
      "execution_count": null,
      "id": "96dc04b5-7b14-49ee-8906-85619be13db2",
      "metadata": {
        "colab": {
          "base_uri": "https://localhost:8080/",
          "height": 36
        },
        "id": "96dc04b5-7b14-49ee-8906-85619be13db2",
        "outputId": "60efb3e2-6cb6-4857-a059-c5ee186c6d95"
      },
      "outputs": [
        {
          "output_type": "execute_result",
          "data": {
            "text/plain": [
              "'123'"
            ],
            "application/vnd.google.colaboratory.intrinsic+json": {
              "type": "string"
            }
          },
          "metadata": {},
          "execution_count": 678
        }
      ],
      "source": [
        "start_index, end_index = match.span() #tuple unwrapping\n",
        "\n",
        "test_string[start_index:end_index] #slicing"
      ]
    },
    {
      "cell_type": "code",
      "execution_count": null,
      "id": "0ebd5861-aedb-416c-96c4-4f88aa986944",
      "metadata": {
        "colab": {
          "base_uri": "https://localhost:8080/"
        },
        "id": "0ebd5861-aedb-416c-96c4-4f88aa986944",
        "outputId": "aecaac8b-3a83-460b-ac56-52bbc2b66345"
      },
      "outputs": [
        {
          "output_type": "execute_result",
          "data": {
            "text/plain": [
              "0"
            ]
          },
          "metadata": {},
          "execution_count": 679
        }
      ],
      "source": [
        "match.start() #start() method of Match object returnss starting index"
      ]
    },
    {
      "cell_type": "code",
      "execution_count": null,
      "id": "ab090aff-e056-4d47-86fe-56ca4557ae46",
      "metadata": {
        "colab": {
          "base_uri": "https://localhost:8080/"
        },
        "id": "ab090aff-e056-4d47-86fe-56ca4557ae46",
        "outputId": "af278f5f-7136-4d58-c537-fb48fb5abb88"
      },
      "outputs": [
        {
          "output_type": "execute_result",
          "data": {
            "text/plain": [
              "3"
            ]
          },
          "metadata": {},
          "execution_count": 680
        }
      ],
      "source": [
        "match.end()  #end() method of Match object returns ending +1 index"
      ]
    },
    {
      "cell_type": "code",
      "execution_count": null,
      "id": "6609832a-610a-492d-9c53-4c7b81d60b24",
      "metadata": {
        "colab": {
          "base_uri": "https://localhost:8080/",
          "height": 36
        },
        "id": "6609832a-610a-492d-9c53-4c7b81d60b24",
        "outputId": "d6223ed3-b152-4d80-f18f-d6497455da51"
      },
      "outputs": [
        {
          "output_type": "execute_result",
          "data": {
            "text/plain": [
              "'123'"
            ],
            "application/vnd.google.colaboratory.intrinsic+json": {
              "type": "string"
            }
          },
          "metadata": {},
          "execution_count": 681
        }
      ],
      "source": [
        "match.group()   #group() method of Match object return the search pattern or we can say compile object used to search"
      ]
    },
    {
      "cell_type": "code",
      "execution_count": null,
      "id": "ae09e531-fd81-4085-a808-d395b6395b17",
      "metadata": {
        "id": "ae09e531-fd81-4085-a808-d395b6395b17"
      },
      "outputs": [],
      "source": [
        "# re.search() --> returns only the first occuurence if found as a Match object"
      ]
    },
    {
      "cell_type": "code",
      "execution_count": null,
      "id": "981e45e1-9629-4d16-8279-673bdb9b5d71",
      "metadata": {
        "colab": {
          "base_uri": "https://localhost:8080/",
          "height": 36
        },
        "id": "981e45e1-9629-4d16-8279-673bdb9b5d71",
        "outputId": "f58a79fb-07d7-403e-e336-69f925f68f1f"
      },
      "outputs": [
        {
          "output_type": "execute_result",
          "data": {
            "text/plain": [
              "'123abc456789abc123ABC'"
            ],
            "application/vnd.google.colaboratory.intrinsic+json": {
              "type": "string"
            }
          },
          "metadata": {},
          "execution_count": 683
        }
      ],
      "source": [
        "test_string"
      ]
    },
    {
      "cell_type": "code",
      "execution_count": null,
      "id": "46d03275-e46d-4e58-afde-308e8fd67a64",
      "metadata": {
        "colab": {
          "base_uri": "https://localhost:8080/"
        },
        "id": "46d03275-e46d-4e58-afde-308e8fd67a64",
        "outputId": "c4578f34-8f93-4fba-c445-276e5cfee607"
      },
      "outputs": [
        {
          "output_type": "execute_result",
          "data": {
            "text/plain": [
              "<re.Match object; span=(3, 6), match='abc'>"
            ]
          },
          "metadata": {},
          "execution_count": 684
        }
      ],
      "source": [
        "pattern = re.compile(r\"abc\")\n",
        "\n",
        "match = re.search(pattern, test_string) # give pattern and memory reference of text/string from where to search\n",
        "match"
      ]
    },
    {
      "cell_type": "code",
      "execution_count": null,
      "id": "00f46259-bba3-4aba-906f-8ba6d0d91f55",
      "metadata": {
        "colab": {
          "base_uri": "https://localhost:8080/",
          "height": 36
        },
        "id": "00f46259-bba3-4aba-906f-8ba6d0d91f55",
        "outputId": "4fa91003-3698-403d-b020-e5d15221bb92"
      },
      "outputs": [
        {
          "output_type": "execute_result",
          "data": {
            "text/plain": [
              "'abc'"
            ],
            "application/vnd.google.colaboratory.intrinsic+json": {
              "type": "string"
            }
          },
          "metadata": {},
          "execution_count": 685
        }
      ],
      "source": [
        "match.group() #group() method of Match object return the search pattern or we can say compile object used to search"
      ]
    },
    {
      "cell_type": "code",
      "execution_count": null,
      "id": "e687dd20-14bb-4e04-9a6f-9f33d1039b78",
      "metadata": {
        "colab": {
          "base_uri": "https://localhost:8080/",
          "height": 36
        },
        "id": "e687dd20-14bb-4e04-9a6f-9f33d1039b78",
        "outputId": "9aefa515-2f81-461f-a253-7a24692281dd"
      },
      "outputs": [
        {
          "output_type": "execute_result",
          "data": {
            "text/plain": [
              "'abc'"
            ],
            "application/vnd.google.colaboratory.intrinsic+json": {
              "type": "string"
            }
          },
          "metadata": {},
          "execution_count": 686
        }
      ],
      "source": [
        "start_index, end_index = match.span()\n",
        "\n",
        "test_string[start_index:end_index]"
      ]
    },
    {
      "cell_type": "code",
      "execution_count": null,
      "id": "36d4c045-f571-42e8-84dd-71b29629abc6",
      "metadata": {
        "id": "36d4c045-f571-42e8-84dd-71b29629abc6"
      },
      "outputs": [],
      "source": [
        "# re.findall() --> returns LIST of all occurence, we cant use start end span group on this"
      ]
    },
    {
      "cell_type": "code",
      "execution_count": null,
      "id": "e0444189-aa8c-4bd1-92fa-667189b78fc2",
      "metadata": {
        "colab": {
          "base_uri": "https://localhost:8080/"
        },
        "id": "e0444189-aa8c-4bd1-92fa-667189b78fc2",
        "outputId": "702253bf-e272-446d-a0c0-872d716d095a"
      },
      "outputs": [
        {
          "output_type": "execute_result",
          "data": {
            "text/plain": [
              "['abc', 'abc']"
            ]
          },
          "metadata": {},
          "execution_count": 688
        }
      ],
      "source": [
        "pattern = re.compile(r\"abc\")\n",
        "\n",
        "matches = re.findall(pattern, test_string)\n",
        "matches\n",
        "#matches.span()"
      ]
    },
    {
      "cell_type": "code",
      "execution_count": null,
      "id": "f96c3f2b-b664-4a78-ad00-b0f8d6489421",
      "metadata": {
        "id": "f96c3f2b-b664-4a78-ad00-b0f8d6489421"
      },
      "outputs": [],
      "source": [
        "# re.finditer() --> returns ITERABLE MATCH object , we can use start end span group on this"
      ]
    },
    {
      "cell_type": "code",
      "execution_count": null,
      "id": "952f02e7-f3eb-4bd8-be31-78b2f63c8345",
      "metadata": {
        "colab": {
          "base_uri": "https://localhost:8080/"
        },
        "id": "952f02e7-f3eb-4bd8-be31-78b2f63c8345",
        "outputId": "0faf77db-817e-466e-b2f4-198c2e655846"
      },
      "outputs": [
        {
          "output_type": "stream",
          "name": "stdout",
          "text": [
            "<re.Match object; span=(3, 6), match='abc'>\n",
            "<re.Match object; span=(12, 15), match='abc'>\n"
          ]
        }
      ],
      "source": [
        "pattern = re.compile(r\"abc\")\n",
        "\n",
        "matches = re.finditer(pattern, test_string)\n",
        "\n",
        "for match in matches:\n",
        "\tprint(match)\n",
        "\t#print(match.span())"
      ]
    },
    {
      "cell_type": "markdown",
      "id": "848dac78-7810-475b-a6ed-a624721a4089",
      "metadata": {
        "id": "848dac78-7810-475b-a6ed-a624721a4089"
      },
      "source": [
        "## 4. Meta Characters"
      ]
    },
    {
      "cell_type": "code",
      "execution_count": null,
      "id": "156acd2d-6ca2-41f2-8977-2ce8fb59132d",
      "metadata": {
        "id": "156acd2d-6ca2-41f2-8977-2ce8fb59132d"
      },
      "outputs": [],
      "source": [
        "test_string_1 = \"123abc.456789abc123defGHI.ABC \\n xyz345WXYZ\""
      ]
    },
    {
      "cell_type": "code",
      "execution_count": null,
      "id": "c561f1a7-5f38-4654-8af8-a0d5adfbaff5",
      "metadata": {
        "id": "c561f1a7-5f38-4654-8af8-a0d5adfbaff5"
      },
      "outputs": [],
      "source": [
        "test_string_2 = \"The cat sat on the mat with a bat and a hat.\""
      ]
    },
    {
      "cell_type": "code",
      "execution_count": null,
      "id": "e87d9726-6e33-4bd9-83e1-0cab3f32d2e6",
      "metadata": {
        "id": "e87d9726-6e33-4bd9-83e1-0cab3f32d2e6"
      },
      "outputs": [],
      "source": [
        "test_string_3 = \"The cat sat on the mat with a bat and a hat. $at, 8at, at.\""
      ]
    },
    {
      "cell_type": "code",
      "execution_count": null,
      "id": "23e8202f-5b13-4fdd-81c8-0eb2b2942a2e",
      "metadata": {
        "id": "23e8202f-5b13-4fdd-81c8-0eb2b2942a2e"
      },
      "outputs": [],
      "source": [
        "text = \"\"\"Hello World!\n",
        "This is a test.\n",
        "Hello again!\n",
        "Python is fun.\n",
        "Hello Python\"\"\""
      ]
    },
    {
      "cell_type": "markdown",
      "id": "5f98b41d-074c-436e-8bd2-b54cd2558c2f",
      "metadata": {
        "id": "5f98b41d-074c-436e-8bd2-b54cd2558c2f"
      },
      "source": [
        "### 4.1 dot (.)"
      ]
    },
    {
      "cell_type": "code",
      "execution_count": null,
      "id": "e69e15db-c636-48e2-95a5-c57d4ba92209",
      "metadata": {
        "colab": {
          "base_uri": "https://localhost:8080/"
        },
        "id": "e69e15db-c636-48e2-95a5-c57d4ba92209",
        "outputId": "a7d3ba96-d7f9-4947-8c17-bc56854e7d2c"
      },
      "outputs": [
        {
          "output_type": "stream",
          "name": "stdout",
          "text": [
            "<re.Match object; span=(0, 1), match='1'>\n",
            "<re.Match object; span=(1, 2), match='2'>\n",
            "<re.Match object; span=(2, 3), match='3'>\n",
            "<re.Match object; span=(3, 4), match='a'>\n",
            "<re.Match object; span=(4, 5), match='b'>\n",
            "<re.Match object; span=(5, 6), match='c'>\n",
            "<re.Match object; span=(6, 7), match='.'>\n",
            "<re.Match object; span=(7, 8), match='4'>\n",
            "<re.Match object; span=(8, 9), match='5'>\n",
            "<re.Match object; span=(9, 10), match='6'>\n",
            "<re.Match object; span=(10, 11), match='7'>\n",
            "<re.Match object; span=(11, 12), match='8'>\n",
            "<re.Match object; span=(12, 13), match='9'>\n",
            "<re.Match object; span=(13, 14), match='a'>\n",
            "<re.Match object; span=(14, 15), match='b'>\n",
            "<re.Match object; span=(15, 16), match='c'>\n",
            "<re.Match object; span=(16, 17), match='1'>\n",
            "<re.Match object; span=(17, 18), match='2'>\n",
            "<re.Match object; span=(18, 19), match='3'>\n",
            "<re.Match object; span=(19, 20), match='d'>\n",
            "<re.Match object; span=(20, 21), match='e'>\n",
            "<re.Match object; span=(21, 22), match='f'>\n",
            "<re.Match object; span=(22, 23), match='G'>\n",
            "<re.Match object; span=(23, 24), match='H'>\n",
            "<re.Match object; span=(24, 25), match='I'>\n",
            "<re.Match object; span=(25, 26), match='.'>\n",
            "<re.Match object; span=(26, 27), match='A'>\n",
            "<re.Match object; span=(27, 28), match='B'>\n",
            "<re.Match object; span=(28, 29), match='C'>\n",
            "<re.Match object; span=(29, 30), match=' '>\n",
            "<re.Match object; span=(31, 32), match=' '>\n",
            "<re.Match object; span=(32, 33), match='x'>\n",
            "<re.Match object; span=(33, 34), match='y'>\n",
            "<re.Match object; span=(34, 35), match='z'>\n",
            "<re.Match object; span=(35, 36), match='3'>\n",
            "<re.Match object; span=(36, 37), match='4'>\n",
            "<re.Match object; span=(37, 38), match='5'>\n",
            "<re.Match object; span=(38, 39), match='W'>\n",
            "<re.Match object; span=(39, 40), match='X'>\n",
            "<re.Match object; span=(40, 41), match='Y'>\n",
            "<re.Match object; span=(41, 42), match='Z'>\n"
          ]
        }
      ],
      "source": [
        "pattern = re.compile(r\".\") # ignores \\n character\n",
        "\n",
        "matches = re.finditer(pattern, test_string_1)\n",
        "\n",
        "for match in matches:\n",
        "\tprint(match)"
      ]
    },
    {
      "cell_type": "code",
      "execution_count": null,
      "id": "284f2658-b678-4e40-859f-a990a1cf839a",
      "metadata": {
        "colab": {
          "base_uri": "https://localhost:8080/"
        },
        "id": "284f2658-b678-4e40-859f-a990a1cf839a",
        "outputId": "d82b6b85-f47d-435d-80a4-d12c08eb106a"
      },
      "outputs": [
        {
          "output_type": "stream",
          "name": "stdout",
          "text": [
            "The cat sat on the mat with a bat and a hat.\n",
            "\n",
            "<re.Match object; span=(0, 1), match='T'>\n",
            "<re.Match object; span=(1, 2), match='h'>\n",
            "<re.Match object; span=(2, 3), match='e'>\n",
            "<re.Match object; span=(3, 4), match=' '>\n",
            "<re.Match object; span=(4, 5), match='c'>\n",
            "<re.Match object; span=(5, 6), match='a'>\n",
            "<re.Match object; span=(6, 7), match='t'>\n",
            "<re.Match object; span=(7, 8), match=' '>\n",
            "<re.Match object; span=(8, 9), match='s'>\n",
            "<re.Match object; span=(9, 10), match='a'>\n",
            "<re.Match object; span=(10, 11), match='t'>\n",
            "<re.Match object; span=(11, 12), match=' '>\n",
            "<re.Match object; span=(12, 13), match='o'>\n",
            "<re.Match object; span=(13, 14), match='n'>\n",
            "<re.Match object; span=(14, 15), match=' '>\n",
            "<re.Match object; span=(15, 16), match='t'>\n",
            "<re.Match object; span=(16, 17), match='h'>\n",
            "<re.Match object; span=(17, 18), match='e'>\n",
            "<re.Match object; span=(18, 19), match=' '>\n",
            "<re.Match object; span=(19, 20), match='m'>\n",
            "<re.Match object; span=(20, 21), match='a'>\n",
            "<re.Match object; span=(21, 22), match='t'>\n",
            "<re.Match object; span=(22, 23), match=' '>\n",
            "<re.Match object; span=(23, 24), match='w'>\n",
            "<re.Match object; span=(24, 25), match='i'>\n",
            "<re.Match object; span=(25, 26), match='t'>\n",
            "<re.Match object; span=(26, 27), match='h'>\n",
            "<re.Match object; span=(27, 28), match=' '>\n",
            "<re.Match object; span=(28, 29), match='a'>\n",
            "<re.Match object; span=(29, 30), match=' '>\n",
            "<re.Match object; span=(30, 31), match='b'>\n",
            "<re.Match object; span=(31, 32), match='a'>\n",
            "<re.Match object; span=(32, 33), match='t'>\n",
            "<re.Match object; span=(33, 34), match=' '>\n",
            "<re.Match object; span=(34, 35), match='a'>\n",
            "<re.Match object; span=(35, 36), match='n'>\n",
            "<re.Match object; span=(36, 37), match='d'>\n",
            "<re.Match object; span=(37, 38), match=' '>\n",
            "<re.Match object; span=(38, 39), match='a'>\n",
            "<re.Match object; span=(39, 40), match=' '>\n",
            "<re.Match object; span=(40, 41), match='h'>\n",
            "<re.Match object; span=(41, 42), match='a'>\n",
            "<re.Match object; span=(42, 43), match='t'>\n",
            "<re.Match object; span=(43, 44), match='.'>\n"
          ]
        }
      ],
      "source": [
        "# dot meta character in string 2\n",
        "print(test_string_2, end=\"\\n\\n\")\n",
        "\n",
        "pattern = re.compile(r\".\")\n",
        "\n",
        "matches = re.finditer(pattern, test_string_2)\n",
        "\n",
        "for match in matches:\n",
        "\tprint(match)"
      ]
    },
    {
      "cell_type": "code",
      "execution_count": null,
      "id": "e03f03b9-cb0f-4762-9109-dd167fe8f329",
      "metadata": {
        "colab": {
          "base_uri": "https://localhost:8080/"
        },
        "id": "e03f03b9-cb0f-4762-9109-dd167fe8f329",
        "outputId": "425641d7-4f22-45d4-9f25-c5caf93d1150"
      },
      "outputs": [
        {
          "output_type": "stream",
          "name": "stdout",
          "text": [
            "The cat sat on the mat with a bat and a hat. $at, 8at, at.\n",
            "\n",
            "<re.Match object; span=(0, 1), match='T'>\n",
            "<re.Match object; span=(1, 2), match='h'>\n",
            "<re.Match object; span=(2, 3), match='e'>\n",
            "<re.Match object; span=(3, 4), match=' '>\n",
            "<re.Match object; span=(4, 5), match='c'>\n",
            "<re.Match object; span=(5, 6), match='a'>\n",
            "<re.Match object; span=(6, 7), match='t'>\n",
            "<re.Match object; span=(7, 8), match=' '>\n",
            "<re.Match object; span=(8, 9), match='s'>\n",
            "<re.Match object; span=(9, 10), match='a'>\n",
            "<re.Match object; span=(10, 11), match='t'>\n",
            "<re.Match object; span=(11, 12), match=' '>\n",
            "<re.Match object; span=(12, 13), match='o'>\n",
            "<re.Match object; span=(13, 14), match='n'>\n",
            "<re.Match object; span=(14, 15), match=' '>\n",
            "<re.Match object; span=(15, 16), match='t'>\n",
            "<re.Match object; span=(16, 17), match='h'>\n",
            "<re.Match object; span=(17, 18), match='e'>\n",
            "<re.Match object; span=(18, 19), match=' '>\n",
            "<re.Match object; span=(19, 20), match='m'>\n",
            "<re.Match object; span=(20, 21), match='a'>\n",
            "<re.Match object; span=(21, 22), match='t'>\n",
            "<re.Match object; span=(22, 23), match=' '>\n",
            "<re.Match object; span=(23, 24), match='w'>\n",
            "<re.Match object; span=(24, 25), match='i'>\n",
            "<re.Match object; span=(25, 26), match='t'>\n",
            "<re.Match object; span=(26, 27), match='h'>\n",
            "<re.Match object; span=(27, 28), match=' '>\n",
            "<re.Match object; span=(28, 29), match='a'>\n",
            "<re.Match object; span=(29, 30), match=' '>\n",
            "<re.Match object; span=(30, 31), match='b'>\n",
            "<re.Match object; span=(31, 32), match='a'>\n",
            "<re.Match object; span=(32, 33), match='t'>\n",
            "<re.Match object; span=(33, 34), match=' '>\n",
            "<re.Match object; span=(34, 35), match='a'>\n",
            "<re.Match object; span=(35, 36), match='n'>\n",
            "<re.Match object; span=(36, 37), match='d'>\n",
            "<re.Match object; span=(37, 38), match=' '>\n",
            "<re.Match object; span=(38, 39), match='a'>\n",
            "<re.Match object; span=(39, 40), match=' '>\n",
            "<re.Match object; span=(40, 41), match='h'>\n",
            "<re.Match object; span=(41, 42), match='a'>\n",
            "<re.Match object; span=(42, 43), match='t'>\n",
            "<re.Match object; span=(43, 44), match='.'>\n",
            "<re.Match object; span=(44, 45), match=' '>\n",
            "<re.Match object; span=(45, 46), match='$'>\n",
            "<re.Match object; span=(46, 47), match='a'>\n",
            "<re.Match object; span=(47, 48), match='t'>\n",
            "<re.Match object; span=(48, 49), match=','>\n",
            "<re.Match object; span=(49, 50), match=' '>\n",
            "<re.Match object; span=(50, 51), match='8'>\n",
            "<re.Match object; span=(51, 52), match='a'>\n",
            "<re.Match object; span=(52, 53), match='t'>\n",
            "<re.Match object; span=(53, 54), match=','>\n",
            "<re.Match object; span=(54, 55), match=' '>\n",
            "<re.Match object; span=(55, 56), match='a'>\n",
            "<re.Match object; span=(56, 57), match='t'>\n",
            "<re.Match object; span=(57, 58), match='.'>\n"
          ]
        }
      ],
      "source": [
        "# dot meta character in string 3\n",
        "print(test_string_3, end=\"\\n\\n\")\n",
        "\n",
        "pattern = re.compile(r\".\")\n",
        "\n",
        "matches = re.finditer(pattern, test_string_3)\n",
        "\n",
        "for match in matches:\n",
        "\tprint(match)"
      ]
    },
    {
      "cell_type": "markdown",
      "id": "9286a07b-255b-4e1a-a199-737075998d06",
      "metadata": {
        "id": "9286a07b-255b-4e1a-a199-737075998d06"
      },
      "source": [
        "### 4.2 carat (^)"
      ]
    },
    {
      "cell_type": "code",
      "execution_count": null,
      "id": "c37fdfd6-0d34-4efd-a5a7-32da44d00253",
      "metadata": {
        "colab": {
          "base_uri": "https://localhost:8080/"
        },
        "id": "c37fdfd6-0d34-4efd-a5a7-32da44d00253",
        "outputId": "2810ca22-cdf9-40b1-bed9-70ca8d71aaf2"
      },
      "outputs": [
        {
          "output_type": "stream",
          "name": "stdout",
          "text": [
            "Hello World!\n",
            "This is a test.\n",
            "Hello again!\n",
            "Python is fun.\n",
            "Hello Python\n",
            "\n",
            "<re.Match object; span=(0, 5), match='Hello'>\n",
            "<re.Match object; span=(29, 34), match='Hello'>\n",
            "<re.Match object; span=(57, 62), match='Hello'>\n"
          ]
        }
      ],
      "source": [
        "# Search for pattern at the beginning of the string\n",
        "print(text, end=\"\\n\\n\")\n",
        "\n",
        "pattern = re.compile(r\"Hello\") # This gives all occurences\n",
        "\n",
        "matches = re.finditer(pattern, text)\n",
        "\n",
        "for match in matches:\n",
        "\tprint(match)"
      ]
    },
    {
      "cell_type": "code",
      "execution_count": null,
      "id": "e19de460-8ae7-46a3-8857-5cf7c8ce6cb1",
      "metadata": {
        "colab": {
          "base_uri": "https://localhost:8080/"
        },
        "id": "e19de460-8ae7-46a3-8857-5cf7c8ce6cb1",
        "outputId": "4425cf74-5351-4f8e-a7a3-32ab4eaa846c"
      },
      "outputs": [
        {
          "output_type": "stream",
          "name": "stdout",
          "text": [
            "Hello World!\n",
            "This is a test.\n",
            "Hello again!\n",
            "Python is fun.\n",
            "Hello Python\n",
            "\n",
            "<re.Match object; span=(0, 5), match='Hello'>\n"
          ]
        }
      ],
      "source": [
        "print(text, end=\"\\n\\n\") # Search for pattern at the beginning of the string and stops searching after finding first occurence\n",
        "\n",
        "pattern = re.compile(r\"^Hello\")  # Single Occurence\n",
        "\n",
        "matches = re.finditer(pattern, text)\n",
        "\n",
        "for match in matches:\n",
        "\tprint(match)\n"
      ]
    },
    {
      "cell_type": "markdown",
      "id": "f0abb8ab-3282-4f60-85bd-99b55f9aa679",
      "metadata": {
        "id": "f0abb8ab-3282-4f60-85bd-99b55f9aa679"
      },
      "source": [
        "### 4.3 dollar ($)"
      ]
    },
    {
      "cell_type": "code",
      "execution_count": null,
      "id": "2a408815-8996-4de1-85c0-a68c48dae7f0",
      "metadata": {
        "colab": {
          "base_uri": "https://localhost:8080/"
        },
        "id": "2a408815-8996-4de1-85c0-a68c48dae7f0",
        "outputId": "3a111401-298a-40d2-cc54-8d73f46c3cf7"
      },
      "outputs": [
        {
          "output_type": "stream",
          "name": "stdout",
          "text": [
            "Hello World!\n",
            "This is a test.\n",
            "Hello again!\n",
            "Python is fun.\n",
            "Hello Python\n",
            "\n",
            "<re.Match object; span=(42, 48), match='Python'>\n",
            "<re.Match object; span=(63, 69), match='Python'>\n"
          ]
        }
      ],
      "source": [
        "print(text, end=\"\\n\\n\") # Search for pattern at the end of the string\n",
        "\n",
        "pattern = re.compile(r\"Python\") # gives all occurence\n",
        "\n",
        "matches = re.finditer(pattern, text)\n",
        "\n",
        "for match in matches:\n",
        "\tprint(match)"
      ]
    },
    {
      "cell_type": "code",
      "execution_count": null,
      "id": "c5381927-36f0-4b17-954b-bcc23b83cf86",
      "metadata": {
        "colab": {
          "base_uri": "https://localhost:8080/"
        },
        "id": "c5381927-36f0-4b17-954b-bcc23b83cf86",
        "outputId": "c46a828b-e81a-48dc-ceca-4cb32b3f6af3"
      },
      "outputs": [
        {
          "output_type": "stream",
          "name": "stdout",
          "text": [
            "Hello World!\n",
            "This is a test.\n",
            "Hello again!\n",
            "Python is fun.\n",
            "Hello Python\n",
            "\n",
            "<re.Match object; span=(63, 69), match='Python'>\n"
          ]
        }
      ],
      "source": [
        "print(text, end=\"\\n\\n\") # Search for pattern at the end of the string and stops searching after finding first occurence\n",
        "\n",
        "pattern = re.compile(r\"Python$\") # gives only single occuurence\n",
        "\n",
        "matches = re.finditer(pattern, text)\n",
        "\n",
        "for match in matches:\n",
        "\tprint(match)"
      ]
    },
    {
      "cell_type": "markdown",
      "id": "87a000fe-2316-4fe4-8786-ee1ccdb9405c",
      "metadata": {
        "id": "87a000fe-2316-4fe4-8786-ee1ccdb9405c"
      },
      "source": [
        "## 5. Character Sets"
      ]
    },
    {
      "cell_type": "markdown",
      "id": "83a35f6c-47d2-4e8e-a890-4888d8b5f8d1",
      "metadata": {
        "id": "83a35f6c-47d2-4e8e-a890-4888d8b5f8d1"
      },
      "source": [
        "### 5.1 Custom Character Sets"
      ]
    },
    {
      "cell_type": "code",
      "execution_count": null,
      "id": "8485df79-4eab-4dd0-9d3a-849a18e342da",
      "metadata": {
        "id": "8485df79-4eab-4dd0-9d3a-849a18e342da"
      },
      "outputs": [],
      "source": [
        "test_string = \"123abc.4567XYZ$89abc123  def%GHIxyz.ABC#i.\""
      ]
    },
    {
      "cell_type": "markdown",
      "id": "3fd3fd10-8a39-4e9c-8b8b-738df53d247f",
      "metadata": {
        "id": "3fd3fd10-8a39-4e9c-8b8b-738df53d247f"
      },
      "source": [
        "#### 5.1.1 Literal Characters"
      ]
    },
    {
      "cell_type": "code",
      "execution_count": null,
      "id": "f32857ec-da18-4b52-9999-465ba132df39",
      "metadata": {
        "id": "f32857ec-da18-4b52-9999-465ba132df39"
      },
      "outputs": [],
      "source": [
        "# vowels"
      ]
    },
    {
      "cell_type": "code",
      "execution_count": null,
      "id": "462ad3ab-b499-4884-a8dd-70900c282edb",
      "metadata": {
        "colab": {
          "base_uri": "https://localhost:8080/"
        },
        "id": "462ad3ab-b499-4884-a8dd-70900c282edb",
        "outputId": "8bd76193-b8c3-4229-c249-3be5ccb7ea96"
      },
      "outputs": [
        {
          "output_type": "stream",
          "name": "stdout",
          "text": [
            "123abc.4567XYZ$89abc123  def%GHIxyz.ABC#i.\n",
            "\n",
            "<re.Match object; span=(3, 4), match='a'>\n",
            "<re.Match object; span=(17, 18), match='a'>\n",
            "<re.Match object; span=(26, 27), match='e'>\n",
            "<re.Match object; span=(40, 41), match='i'>\n"
          ]
        }
      ],
      "source": [
        "print(test_string, end=\"\\n\\n\")\n",
        "\n",
        "pattern  = re.compile(r\"[aeiou]\") #search for mentioned characters and return a single character in []\n",
        "\n",
        "matches = re.finditer(pattern, test_string)\n",
        "\n",
        "for match in matches:\n",
        "\tprint(match)"
      ]
    },
    {
      "cell_type": "code",
      "execution_count": null,
      "id": "ab978c00",
      "metadata": {
        "colab": {
          "base_uri": "https://localhost:8080/"
        },
        "id": "ab978c00",
        "outputId": "29a5d357-4c6f-4267-e952-b31e2fb1e3e1"
      },
      "outputs": [
        {
          "output_type": "stream",
          "name": "stdout",
          "text": [
            "123abc.4567XYZ$89abc123  def%GHIxyz.ABC#i.\n",
            "\n",
            "<re.Match object; span=(3, 4), match='a'>\n",
            "<re.Match object; span=(17, 18), match='a'>\n",
            "<re.Match object; span=(26, 27), match='e'>\n",
            "<re.Match object; span=(31, 32), match='I'>\n",
            "<re.Match object; span=(36, 37), match='A'>\n",
            "<re.Match object; span=(40, 41), match='i'>\n"
          ]
        }
      ],
      "source": [
        "print(test_string, end=\"\\n\\n\")\n",
        "\n",
        "pattern  = re.compile(r\"[aeiouAEIOU]\") # 2nd example\n",
        "\n",
        "matches = re.finditer(pattern, test_string) #finditer\n",
        "\n",
        "for match in matches:\n",
        "\tprint(match)"
      ]
    },
    {
      "cell_type": "code",
      "execution_count": null,
      "id": "eae694c6-2c61-431b-8984-997784af424a",
      "metadata": {
        "colab": {
          "base_uri": "https://localhost:8080/"
        },
        "id": "eae694c6-2c61-431b-8984-997784af424a",
        "outputId": "9ec35a01-5857-4c28-dafd-01b06d9b6093"
      },
      "outputs": [
        {
          "output_type": "stream",
          "name": "stdout",
          "text": [
            "123abc.4567XYZ$89abc123  def%GHIxyz.ABC#i.\n",
            "\n"
          ]
        },
        {
          "output_type": "execute_result",
          "data": {
            "text/plain": [
              "['a', 'a', 'e', 'I', 'A', 'i']"
            ]
          },
          "metadata": {},
          "execution_count": 706
        }
      ],
      "source": [
        "print(test_string, end=\"\\n\\n\")\n",
        "\n",
        "pattern  = re.compile(r\"[aeiouAEIOU]\") # 3nd example\n",
        "\n",
        "matches = re.findall(pattern, test_string) #findall()\n",
        "matches"
      ]
    },
    {
      "cell_type": "code",
      "execution_count": null,
      "id": "868afd78-8484-4799-9c49-de86325f586b",
      "metadata": {
        "id": "868afd78-8484-4799-9c49-de86325f586b"
      },
      "outputs": [],
      "source": [
        "# digits"
      ]
    },
    {
      "cell_type": "code",
      "execution_count": null,
      "id": "086f4c1c-12b2-4e10-88c9-2722d13df9df",
      "metadata": {
        "colab": {
          "base_uri": "https://localhost:8080/"
        },
        "id": "086f4c1c-12b2-4e10-88c9-2722d13df9df",
        "outputId": "51e4fade-60c5-435e-b524-919265057ca4"
      },
      "outputs": [
        {
          "output_type": "stream",
          "name": "stdout",
          "text": [
            "123abc.4567XYZ$89abc123  def%GHIxyz.ABC#i.\n",
            "\n",
            "<re.Match object; span=(0, 1), match='1'>\n",
            "<re.Match object; span=(1, 2), match='2'>\n",
            "<re.Match object; span=(2, 3), match='3'>\n",
            "<re.Match object; span=(7, 8), match='4'>\n",
            "<re.Match object; span=(8, 9), match='5'>\n",
            "<re.Match object; span=(9, 10), match='6'>\n",
            "<re.Match object; span=(10, 11), match='7'>\n",
            "<re.Match object; span=(15, 16), match='8'>\n",
            "<re.Match object; span=(16, 17), match='9'>\n",
            "<re.Match object; span=(20, 21), match='1'>\n",
            "<re.Match object; span=(21, 22), match='2'>\n",
            "<re.Match object; span=(22, 23), match='3'>\n"
          ]
        }
      ],
      "source": [
        "print(test_string, end=\"\\n\\n\")\n",
        "\n",
        "pattern  = re.compile(r\"[0123456789]\") # we can also search for digits from the string/text\n",
        "\n",
        "matches = re.finditer(pattern, test_string)\n",
        "\n",
        "for match in matches:\n",
        "\tprint(match)"
      ]
    },
    {
      "cell_type": "code",
      "execution_count": null,
      "id": "edf85a13-1280-4500-9ef6-b788c05a3228",
      "metadata": {
        "id": "edf85a13-1280-4500-9ef6-b788c05a3228"
      },
      "outputs": [],
      "source": [
        "# even numbers"
      ]
    },
    {
      "cell_type": "code",
      "execution_count": null,
      "id": "dda286d9-9fd1-47c6-922a-1f187857df1c",
      "metadata": {
        "colab": {
          "base_uri": "https://localhost:8080/"
        },
        "id": "dda286d9-9fd1-47c6-922a-1f187857df1c",
        "outputId": "59b993cc-df79-4004-8647-9000f75f50a7"
      },
      "outputs": [
        {
          "output_type": "stream",
          "name": "stdout",
          "text": [
            "123abc.4567XYZ$89abc123  def%GHIxyz.ABC#i.\n",
            "\n",
            "<re.Match object; span=(1, 2), match='2'>\n",
            "<re.Match object; span=(7, 8), match='4'>\n",
            "<re.Match object; span=(9, 10), match='6'>\n",
            "<re.Match object; span=(15, 16), match='8'>\n",
            "<re.Match object; span=(21, 22), match='2'>\n"
          ]
        }
      ],
      "source": [
        "print(test_string, end=\"\\n\\n\")\n",
        "\n",
        "pattern  = re.compile(r\"[2468]\") # explicitly search for whats in brach char by char\n",
        "\n",
        "matches = re.finditer(pattern, test_string)\n",
        "\n",
        "for match in matches:\n",
        "\tprint(match)"
      ]
    },
    {
      "cell_type": "markdown",
      "id": "5a2f5f2c-a400-4159-af3c-a6e562d5dcb9",
      "metadata": {
        "id": "5a2f5f2c-a400-4159-af3c-a6e562d5dcb9"
      },
      "source": [
        "#### 5.1.2 Character Ranges"
      ]
    },
    {
      "cell_type": "code",
      "execution_count": null,
      "id": "e095ea0f-852e-4038-96fc-4afcd32c82ae",
      "metadata": {
        "id": "e095ea0f-852e-4038-96fc-4afcd32c82ae"
      },
      "outputs": [],
      "source": [
        "# digits"
      ]
    },
    {
      "cell_type": "code",
      "execution_count": null,
      "id": "bd12457f-a68b-447f-9a52-c30e7e139f93",
      "metadata": {
        "colab": {
          "base_uri": "https://localhost:8080/"
        },
        "id": "bd12457f-a68b-447f-9a52-c30e7e139f93",
        "outputId": "62a36462-0362-4f46-d398-04780de327be"
      },
      "outputs": [
        {
          "output_type": "stream",
          "name": "stdout",
          "text": [
            "123abc.4567XYZ$89abc123  def%GHIxyz.ABC#i.\n",
            "\n",
            "<re.Match object; span=(0, 1), match='1'>\n",
            "<re.Match object; span=(1, 2), match='2'>\n",
            "<re.Match object; span=(2, 3), match='3'>\n",
            "<re.Match object; span=(7, 8), match='4'>\n",
            "<re.Match object; span=(8, 9), match='5'>\n",
            "<re.Match object; span=(9, 10), match='6'>\n",
            "<re.Match object; span=(10, 11), match='7'>\n",
            "<re.Match object; span=(15, 16), match='8'>\n",
            "<re.Match object; span=(16, 17), match='9'>\n",
            "<re.Match object; span=(20, 21), match='1'>\n",
            "<re.Match object; span=(21, 22), match='2'>\n",
            "<re.Match object; span=(22, 23), match='3'>\n"
          ]
        }
      ],
      "source": [
        "print(test_string, end=\"\\n\\n\")\n",
        "\n",
        "pattern  = re.compile(r\"[0-9]\") # we can also specify ranges instead of typing whole character set\n",
        "\n",
        "matches = re.finditer(pattern, test_string)\n",
        "\n",
        "for match in matches:\n",
        "\tprint(match)"
      ]
    },
    {
      "cell_type": "code",
      "execution_count": null,
      "id": "297034f7-732a-4076-b80c-7ee341261d09",
      "metadata": {
        "id": "297034f7-732a-4076-b80c-7ee341261d09"
      },
      "outputs": [],
      "source": [
        "# alphabets"
      ]
    },
    {
      "cell_type": "code",
      "execution_count": null,
      "id": "a0774765-4ba3-450e-84c3-2f1364d4dbfe",
      "metadata": {
        "colab": {
          "base_uri": "https://localhost:8080/"
        },
        "id": "a0774765-4ba3-450e-84c3-2f1364d4dbfe",
        "outputId": "9dae58f6-9fe1-461c-f826-5397329994cb"
      },
      "outputs": [
        {
          "output_type": "stream",
          "name": "stdout",
          "text": [
            "123abc.4567XYZ$89abc123  def%GHIxyz.ABC#i.\n",
            "\n",
            "<re.Match object; span=(0, 1), match='1'>\n",
            "<re.Match object; span=(1, 2), match='2'>\n",
            "<re.Match object; span=(2, 3), match='3'>\n",
            "<re.Match object; span=(3, 4), match='a'>\n",
            "<re.Match object; span=(4, 5), match='b'>\n",
            "<re.Match object; span=(5, 6), match='c'>\n",
            "<re.Match object; span=(7, 8), match='4'>\n",
            "<re.Match object; span=(8, 9), match='5'>\n",
            "<re.Match object; span=(9, 10), match='6'>\n",
            "<re.Match object; span=(10, 11), match='7'>\n",
            "<re.Match object; span=(11, 12), match='X'>\n",
            "<re.Match object; span=(12, 13), match='Y'>\n",
            "<re.Match object; span=(13, 14), match='Z'>\n",
            "<re.Match object; span=(15, 16), match='8'>\n",
            "<re.Match object; span=(16, 17), match='9'>\n",
            "<re.Match object; span=(17, 18), match='a'>\n",
            "<re.Match object; span=(18, 19), match='b'>\n",
            "<re.Match object; span=(19, 20), match='c'>\n",
            "<re.Match object; span=(20, 21), match='1'>\n",
            "<re.Match object; span=(21, 22), match='2'>\n",
            "<re.Match object; span=(22, 23), match='3'>\n",
            "<re.Match object; span=(25, 26), match='d'>\n",
            "<re.Match object; span=(26, 27), match='e'>\n",
            "<re.Match object; span=(27, 28), match='f'>\n",
            "<re.Match object; span=(29, 30), match='G'>\n",
            "<re.Match object; span=(30, 31), match='H'>\n",
            "<re.Match object; span=(31, 32), match='I'>\n",
            "<re.Match object; span=(32, 33), match='x'>\n",
            "<re.Match object; span=(33, 34), match='y'>\n",
            "<re.Match object; span=(34, 35), match='z'>\n",
            "<re.Match object; span=(36, 37), match='A'>\n",
            "<re.Match object; span=(37, 38), match='B'>\n",
            "<re.Match object; span=(38, 39), match='C'>\n",
            "<re.Match object; span=(40, 41), match='i'>\n"
          ]
        }
      ],
      "source": [
        "print(test_string, end=\"\\n\\n\")\n",
        "\n",
        "pattern  = re.compile(r\"[a-zA-Z0-9]\") # we can also specify ranges instead of typing whole character set\n",
        "\n",
        "matches = re.finditer(pattern, test_string)\n",
        "\n",
        "for match in matches:\n",
        "\tprint(match)"
      ]
    },
    {
      "cell_type": "code",
      "execution_count": null,
      "id": "fe6b1eb2-5a7a-4c91-96df-c911272296f9",
      "metadata": {
        "id": "fe6b1eb2-5a7a-4c91-96df-c911272296f9"
      },
      "outputs": [],
      "source": [
        "# hexadecimal characters\n",
        "# body {\n",
        "#   background-color: #FF5733;\n",
        "# }\n"
      ]
    },
    {
      "cell_type": "code",
      "execution_count": null,
      "id": "36ce771c-bcf0-4c21-9d71-4987b0047e2d",
      "metadata": {
        "colab": {
          "base_uri": "https://localhost:8080/"
        },
        "id": "36ce771c-bcf0-4c21-9d71-4987b0047e2d",
        "outputId": "bc5065d4-f5fc-4bd6-d488-339b776ad96b"
      },
      "outputs": [
        {
          "output_type": "stream",
          "name": "stdout",
          "text": [
            "123abc.4567XYZ$89abc123  def%GHIxyz.ABC#i.\n",
            "\n",
            "<re.Match object; span=(0, 1), match='1'>\n",
            "<re.Match object; span=(1, 2), match='2'>\n",
            "<re.Match object; span=(2, 3), match='3'>\n",
            "<re.Match object; span=(3, 4), match='a'>\n",
            "<re.Match object; span=(4, 5), match='b'>\n",
            "<re.Match object; span=(5, 6), match='c'>\n",
            "<re.Match object; span=(7, 8), match='4'>\n",
            "<re.Match object; span=(8, 9), match='5'>\n",
            "<re.Match object; span=(9, 10), match='6'>\n",
            "<re.Match object; span=(10, 11), match='7'>\n",
            "<re.Match object; span=(15, 16), match='8'>\n",
            "<re.Match object; span=(16, 17), match='9'>\n",
            "<re.Match object; span=(17, 18), match='a'>\n",
            "<re.Match object; span=(18, 19), match='b'>\n",
            "<re.Match object; span=(19, 20), match='c'>\n",
            "<re.Match object; span=(20, 21), match='1'>\n",
            "<re.Match object; span=(21, 22), match='2'>\n",
            "<re.Match object; span=(22, 23), match='3'>\n",
            "<re.Match object; span=(25, 26), match='d'>\n",
            "<re.Match object; span=(26, 27), match='e'>\n",
            "<re.Match object; span=(27, 28), match='f'>\n",
            "<re.Match object; span=(36, 37), match='A'>\n",
            "<re.Match object; span=(37, 38), match='B'>\n",
            "<re.Match object; span=(38, 39), match='C'>\n"
          ]
        }
      ],
      "source": [
        "print(test_string, end=\"\\n\\n\")\n",
        "\n",
        "pattern  = re.compile(r\"[0-9a-fA-F]\")\n",
        "\n",
        "matches = re.finditer(pattern, test_string)\n",
        "\n",
        "for match in matches:\n",
        "\tprint(match)"
      ]
    },
    {
      "cell_type": "markdown",
      "id": "b5f4ee03-a778-447e-abc1-b910255752e6",
      "metadata": {
        "id": "b5f4ee03-a778-447e-abc1-b910255752e6"
      },
      "source": [
        "#### 5.1.3 Character Negation"
      ]
    },
    {
      "cell_type": "code",
      "execution_count": null,
      "id": "da86efd0-608c-480e-a30f-300440ac69fc",
      "metadata": {
        "id": "da86efd0-608c-480e-a30f-300440ac69fc"
      },
      "outputs": [],
      "source": [
        "# consonents"
      ]
    },
    {
      "cell_type": "code",
      "execution_count": null,
      "id": "a216c731-11a3-45aa-a2c2-8d9fe2f781a1",
      "metadata": {
        "colab": {
          "base_uri": "https://localhost:8080/"
        },
        "id": "a216c731-11a3-45aa-a2c2-8d9fe2f781a1",
        "outputId": "f491ae60-766a-4f6b-cc14-ef72f78e8987"
      },
      "outputs": [
        {
          "output_type": "stream",
          "name": "stdout",
          "text": [
            "123abc.4567XYZ$89abc123  def%GHIxyz.ABC#i.\n",
            "\n",
            "<re.Match object; span=(4, 5), match='b'>\n",
            "<re.Match object; span=(5, 6), match='c'>\n",
            "<re.Match object; span=(11, 12), match='X'>\n",
            "<re.Match object; span=(12, 13), match='Y'>\n",
            "<re.Match object; span=(13, 14), match='Z'>\n",
            "<re.Match object; span=(18, 19), match='b'>\n",
            "<re.Match object; span=(19, 20), match='c'>\n",
            "<re.Match object; span=(25, 26), match='d'>\n",
            "<re.Match object; span=(27, 28), match='f'>\n",
            "<re.Match object; span=(29, 30), match='G'>\n",
            "<re.Match object; span=(30, 31), match='H'>\n",
            "<re.Match object; span=(32, 33), match='x'>\n",
            "<re.Match object; span=(33, 34), match='y'>\n",
            "<re.Match object; span=(34, 35), match='z'>\n",
            "<re.Match object; span=(37, 38), match='B'>\n",
            "<re.Match object; span=(38, 39), match='C'>\n"
          ]
        }
      ],
      "source": [
        "print(test_string, end=\"\\n\\n\")\n",
        "\n",
        "pattern  = re.compile(r\"[^aeiouAEIOU0-9%$#. ]\") # for Negation use carat symbol in beginning only in square brackets\n",
        "\n",
        "matches = re.finditer(pattern, test_string)\n",
        "\n",
        "for match in matches:\n",
        "\tprint(match)"
      ]
    },
    {
      "cell_type": "code",
      "execution_count": null,
      "id": "6d6e695c-dc0b-48b1-8b44-fee08ab076e5",
      "metadata": {
        "id": "6d6e695c-dc0b-48b1-8b44-fee08ab076e5"
      },
      "outputs": [],
      "source": [
        "# not even numbers"
      ]
    },
    {
      "cell_type": "code",
      "execution_count": null,
      "id": "a5aa9390-b373-46f0-a3a6-3b2fb7963fc2",
      "metadata": {
        "colab": {
          "base_uri": "https://localhost:8080/"
        },
        "id": "a5aa9390-b373-46f0-a3a6-3b2fb7963fc2",
        "outputId": "077beefe-dd31-4445-8096-266ac892d205"
      },
      "outputs": [
        {
          "output_type": "stream",
          "name": "stdout",
          "text": [
            "123abc.4567XYZ$89abc123  def%GHIxyz.ABC#i.\n",
            "\n",
            "<re.Match object; span=(0, 1), match='1'>\n",
            "<re.Match object; span=(2, 3), match='3'>\n",
            "<re.Match object; span=(8, 9), match='5'>\n",
            "<re.Match object; span=(10, 11), match='7'>\n",
            "<re.Match object; span=(16, 17), match='9'>\n",
            "<re.Match object; span=(20, 21), match='1'>\n",
            "<re.Match object; span=(22, 23), match='3'>\n"
          ]
        }
      ],
      "source": [
        "print(test_string, end=\"\\n\\n\")\n",
        "\n",
        "pattern  = re.compile(r\"[^02468a-zA-Z%$#. ]\") #Negation of even numbers\n",
        "\n",
        "matches = re.finditer(pattern, test_string)\n",
        "\n",
        "for match in matches:\n",
        "\tprint(match)"
      ]
    },
    {
      "cell_type": "code",
      "execution_count": null,
      "id": "e893bf30-d375-40bc-9d24-308a4f7b0130",
      "metadata": {
        "id": "e893bf30-d375-40bc-9d24-308a4f7b0130"
      },
      "outputs": [],
      "source": [
        "# special characters"
      ]
    },
    {
      "cell_type": "code",
      "execution_count": null,
      "id": "54b0a1c7-66b9-44c9-bd3e-bf7a630c0def",
      "metadata": {
        "colab": {
          "base_uri": "https://localhost:8080/"
        },
        "id": "54b0a1c7-66b9-44c9-bd3e-bf7a630c0def",
        "outputId": "5e6ad7b6-cecc-42af-f291-0690e88702f5"
      },
      "outputs": [
        {
          "output_type": "stream",
          "name": "stdout",
          "text": [
            "123abc.4567XYZ$89abc123  def%GHIxyz.ABC#i.\n",
            "\n",
            "<re.Match object; span=(14, 15), match='$'>\n",
            "<re.Match object; span=(28, 29), match='%'>\n",
            "<re.Match object; span=(39, 40), match='#'>\n"
          ]
        }
      ],
      "source": [
        "print(test_string, end=\"\\n\\n\")\n",
        "\n",
        "pattern  = re.compile(r\"[^a-zA-Z0-9. ]\") #Special characters searching\n",
        "\n",
        "matches = re.finditer(pattern, test_string)\n",
        "\n",
        "for match in matches:\n",
        "\tprint(match)"
      ]
    },
    {
      "cell_type": "markdown",
      "id": "d124124d-2d2e-44ed-8137-138b18276cf8",
      "metadata": {
        "id": "d124124d-2d2e-44ed-8137-138b18276cf8"
      },
      "source": [
        "### 5.2 Pre-defined Character Sets"
      ]
    },
    {
      "cell_type": "code",
      "execution_count": null,
      "id": "2328f091-c3c4-427b-9fb5-b0ff604a2cb3",
      "metadata": {
        "id": "2328f091-c3c4-427b-9fb5-b0ff604a2cb3"
      },
      "outputs": [],
      "source": [
        "test_string_1 = \"123abc.4567XYZ$89abc123 def%GHIxyz .ABC#i.\"\n",
        "\n",
        "test_string_2 = \"123abc.4567\\nXYZ$89abc123 def%GHI\\nxyz .ABC#i.\"\n",
        "\n",
        "test_string_3 = 'heyhello 123_ heyho hohey'"
      ]
    },
    {
      "cell_type": "code",
      "execution_count": null,
      "id": "c34e32b8-3285-4ef0-9b6b-b921b36456f4",
      "metadata": {
        "id": "c34e32b8-3285-4ef0-9b6b-b921b36456f4"
      },
      "outputs": [],
      "source": [
        "# digits"
      ]
    },
    {
      "cell_type": "code",
      "execution_count": null,
      "id": "8ae6e0ba-10fe-478e-91cb-7e312aea25a4",
      "metadata": {
        "colab": {
          "base_uri": "https://localhost:8080/"
        },
        "id": "8ae6e0ba-10fe-478e-91cb-7e312aea25a4",
        "outputId": "b7db4028-52f1-4bb4-a726-6948af32df4e"
      },
      "outputs": [
        {
          "output_type": "stream",
          "name": "stdout",
          "text": [
            "123abc.4567XYZ$89abc123 def%GHIxyz .ABC#i.\n",
            "\n",
            "<re.Match object; span=(0, 1), match='1'>\n",
            "<re.Match object; span=(1, 2), match='2'>\n",
            "<re.Match object; span=(2, 3), match='3'>\n",
            "<re.Match object; span=(7, 8), match='4'>\n",
            "<re.Match object; span=(8, 9), match='5'>\n",
            "<re.Match object; span=(9, 10), match='6'>\n",
            "<re.Match object; span=(10, 11), match='7'>\n",
            "<re.Match object; span=(15, 16), match='8'>\n",
            "<re.Match object; span=(16, 17), match='9'>\n",
            "<re.Match object; span=(20, 21), match='1'>\n",
            "<re.Match object; span=(21, 22), match='2'>\n",
            "<re.Match object; span=(22, 23), match='3'>\n"
          ]
        }
      ],
      "source": [
        "print(test_string_1, end=\"\\n\\n\")\n",
        "\n",
        "pattern  = re.compile(r\"[\\d]\") #\\d includes search for digits in text or string\n",
        "\n",
        "matches = re.finditer(pattern, test_string_1)\n",
        "\n",
        "for match in matches:\n",
        "\tprint(match)"
      ]
    },
    {
      "cell_type": "code",
      "execution_count": null,
      "id": "1cfd1213-46cb-471a-ac06-93b417e0e2c8",
      "metadata": {
        "id": "1cfd1213-46cb-471a-ac06-93b417e0e2c8"
      },
      "outputs": [],
      "source": [
        "# not digits"
      ]
    },
    {
      "cell_type": "code",
      "execution_count": null,
      "id": "c7b26bb4-9db9-4a55-a007-85c1c42fbf10",
      "metadata": {
        "colab": {
          "base_uri": "https://localhost:8080/"
        },
        "id": "c7b26bb4-9db9-4a55-a007-85c1c42fbf10",
        "outputId": "429eaa33-61cd-4621-ecfb-aea95f21f6b7"
      },
      "outputs": [
        {
          "output_type": "stream",
          "name": "stdout",
          "text": [
            "123abc.4567XYZ$89abc123 def%GHIxyz .ABC#i.\n",
            "\n",
            "<re.Match object; span=(3, 4), match='a'>\n",
            "<re.Match object; span=(4, 5), match='b'>\n",
            "<re.Match object; span=(5, 6), match='c'>\n",
            "<re.Match object; span=(6, 7), match='.'>\n",
            "<re.Match object; span=(11, 12), match='X'>\n",
            "<re.Match object; span=(12, 13), match='Y'>\n",
            "<re.Match object; span=(13, 14), match='Z'>\n",
            "<re.Match object; span=(14, 15), match='$'>\n",
            "<re.Match object; span=(17, 18), match='a'>\n",
            "<re.Match object; span=(18, 19), match='b'>\n",
            "<re.Match object; span=(19, 20), match='c'>\n",
            "<re.Match object; span=(23, 24), match=' '>\n",
            "<re.Match object; span=(24, 25), match='d'>\n",
            "<re.Match object; span=(25, 26), match='e'>\n",
            "<re.Match object; span=(26, 27), match='f'>\n",
            "<re.Match object; span=(27, 28), match='%'>\n",
            "<re.Match object; span=(28, 29), match='G'>\n",
            "<re.Match object; span=(29, 30), match='H'>\n",
            "<re.Match object; span=(30, 31), match='I'>\n",
            "<re.Match object; span=(31, 32), match='x'>\n",
            "<re.Match object; span=(32, 33), match='y'>\n",
            "<re.Match object; span=(33, 34), match='z'>\n",
            "<re.Match object; span=(34, 35), match=' '>\n",
            "<re.Match object; span=(35, 36), match='.'>\n",
            "<re.Match object; span=(36, 37), match='A'>\n",
            "<re.Match object; span=(37, 38), match='B'>\n",
            "<re.Match object; span=(38, 39), match='C'>\n",
            "<re.Match object; span=(39, 40), match='#'>\n",
            "<re.Match object; span=(40, 41), match='i'>\n",
            "<re.Match object; span=(41, 42), match='.'>\n"
          ]
        }
      ],
      "source": [
        "print(test_string_1, end=\"\\n\\n\")\n",
        "\n",
        "pattern  = re.compile(r\"[\\D]\") #\\D search for everything other than digits in text or string\n",
        "\n",
        "matches = re.finditer(pattern, test_string_1)\n",
        "\n",
        "for match in matches:\n",
        "\tprint(match)"
      ]
    },
    {
      "cell_type": "code",
      "execution_count": null,
      "id": "305d1893-9a64-41f6-bad4-85a349616ae2",
      "metadata": {
        "id": "305d1893-9a64-41f6-bad4-85a349616ae2"
      },
      "outputs": [],
      "source": [
        "# whitespaces"
      ]
    },
    {
      "cell_type": "code",
      "execution_count": null,
      "id": "49fd1b91-bf83-4b13-9108-57cf6af443c5",
      "metadata": {
        "colab": {
          "base_uri": "https://localhost:8080/"
        },
        "id": "49fd1b91-bf83-4b13-9108-57cf6af443c5",
        "outputId": "09ac149c-7973-40ae-c743-a5b384af4f28"
      },
      "outputs": [
        {
          "output_type": "stream",
          "name": "stdout",
          "text": [
            "123abc.4567\n",
            "XYZ$89abc123 def%GHI\n",
            "xyz .ABC#i.\n",
            "\n",
            "<re.Match object; span=(11, 12), match='\\n'>\n",
            "<re.Match object; span=(24, 25), match=' '>\n",
            "<re.Match object; span=(32, 33), match='\\n'>\n",
            "<re.Match object; span=(36, 37), match=' '>\n"
          ]
        }
      ],
      "source": [
        "print(test_string_2, end=\"\\n\\n\")\n",
        "\n",
        "pattern  = re.compile(r\"[\\s]\") #search for whitespaces, space, tab , newline characters comes under whitespaces\n",
        "\n",
        "matches = re.finditer(pattern, test_string_2)\n",
        "\n",
        "for match in matches:\n",
        "\tprint(match)"
      ]
    },
    {
      "cell_type": "code",
      "execution_count": null,
      "id": "a58157f2-f50b-4be4-8f5d-66e3aae11738",
      "metadata": {
        "id": "a58157f2-f50b-4be4-8f5d-66e3aae11738"
      },
      "outputs": [],
      "source": [
        "# not whitespaces"
      ]
    },
    {
      "cell_type": "code",
      "execution_count": null,
      "id": "77449776-5538-4480-8cc6-2e2bc38055a0",
      "metadata": {
        "colab": {
          "base_uri": "https://localhost:8080/"
        },
        "id": "77449776-5538-4480-8cc6-2e2bc38055a0",
        "outputId": "293aef0b-b00e-442f-bc95-ac6bc099dc30"
      },
      "outputs": [
        {
          "output_type": "stream",
          "name": "stdout",
          "text": [
            "123abc.4567\n",
            "XYZ$89abc123 def%GHI\n",
            "xyz .ABC#i.\n",
            "\n",
            "<re.Match object; span=(0, 1), match='1'>\n",
            "<re.Match object; span=(1, 2), match='2'>\n",
            "<re.Match object; span=(2, 3), match='3'>\n",
            "<re.Match object; span=(3, 4), match='a'>\n",
            "<re.Match object; span=(4, 5), match='b'>\n",
            "<re.Match object; span=(5, 6), match='c'>\n",
            "<re.Match object; span=(6, 7), match='.'>\n",
            "<re.Match object; span=(7, 8), match='4'>\n",
            "<re.Match object; span=(8, 9), match='5'>\n",
            "<re.Match object; span=(9, 10), match='6'>\n",
            "<re.Match object; span=(10, 11), match='7'>\n",
            "<re.Match object; span=(12, 13), match='X'>\n",
            "<re.Match object; span=(13, 14), match='Y'>\n",
            "<re.Match object; span=(14, 15), match='Z'>\n",
            "<re.Match object; span=(15, 16), match='$'>\n",
            "<re.Match object; span=(16, 17), match='8'>\n",
            "<re.Match object; span=(17, 18), match='9'>\n",
            "<re.Match object; span=(18, 19), match='a'>\n",
            "<re.Match object; span=(19, 20), match='b'>\n",
            "<re.Match object; span=(20, 21), match='c'>\n",
            "<re.Match object; span=(21, 22), match='1'>\n",
            "<re.Match object; span=(22, 23), match='2'>\n",
            "<re.Match object; span=(23, 24), match='3'>\n",
            "<re.Match object; span=(25, 26), match='d'>\n",
            "<re.Match object; span=(26, 27), match='e'>\n",
            "<re.Match object; span=(27, 28), match='f'>\n",
            "<re.Match object; span=(28, 29), match='%'>\n",
            "<re.Match object; span=(29, 30), match='G'>\n",
            "<re.Match object; span=(30, 31), match='H'>\n",
            "<re.Match object; span=(31, 32), match='I'>\n",
            "<re.Match object; span=(33, 34), match='x'>\n",
            "<re.Match object; span=(34, 35), match='y'>\n",
            "<re.Match object; span=(35, 36), match='z'>\n",
            "<re.Match object; span=(37, 38), match='.'>\n",
            "<re.Match object; span=(38, 39), match='A'>\n",
            "<re.Match object; span=(39, 40), match='B'>\n",
            "<re.Match object; span=(40, 41), match='C'>\n",
            "<re.Match object; span=(41, 42), match='#'>\n",
            "<re.Match object; span=(42, 43), match='i'>\n",
            "<re.Match object; span=(43, 44), match='.'>\n"
          ]
        }
      ],
      "source": [
        "print(test_string_2, end=\"\\n\\n\")\n",
        "\n",
        "pattern  = re.compile(r\"[\\S]\") #search for other than whitespaces, space, tab , newline characters comes under whitespaces\n",
        "\n",
        "matches = re.finditer(pattern, test_string_2)\n",
        "\n",
        "for match in matches:\n",
        "\tprint(match)"
      ]
    },
    {
      "cell_type": "code",
      "execution_count": null,
      "id": "2543b961-5db6-420f-a87e-4666d653886c",
      "metadata": {
        "id": "2543b961-5db6-420f-a87e-4666d653886c"
      },
      "outputs": [],
      "source": [
        "# alphanumeric"
      ]
    },
    {
      "cell_type": "code",
      "execution_count": null,
      "id": "a3bdfe21-917c-4bc4-bee6-bb5e60c89365",
      "metadata": {
        "colab": {
          "base_uri": "https://localhost:8080/"
        },
        "id": "a3bdfe21-917c-4bc4-bee6-bb5e60c89365",
        "outputId": "439c953f-3f1f-4e06-c6b8-72b4595c66ef"
      },
      "outputs": [
        {
          "output_type": "stream",
          "name": "stdout",
          "text": [
            "123abc.4567\n",
            "XYZ$89abc123 def%GHI\n",
            "xyz .ABC#i.\n",
            "\n",
            "<re.Match object; span=(0, 1), match='1'>\n",
            "<re.Match object; span=(1, 2), match='2'>\n",
            "<re.Match object; span=(2, 3), match='3'>\n",
            "<re.Match object; span=(3, 4), match='a'>\n",
            "<re.Match object; span=(4, 5), match='b'>\n",
            "<re.Match object; span=(5, 6), match='c'>\n",
            "<re.Match object; span=(7, 8), match='4'>\n",
            "<re.Match object; span=(8, 9), match='5'>\n",
            "<re.Match object; span=(9, 10), match='6'>\n",
            "<re.Match object; span=(10, 11), match='7'>\n",
            "<re.Match object; span=(12, 13), match='X'>\n",
            "<re.Match object; span=(13, 14), match='Y'>\n",
            "<re.Match object; span=(14, 15), match='Z'>\n",
            "<re.Match object; span=(16, 17), match='8'>\n",
            "<re.Match object; span=(17, 18), match='9'>\n",
            "<re.Match object; span=(18, 19), match='a'>\n",
            "<re.Match object; span=(19, 20), match='b'>\n",
            "<re.Match object; span=(20, 21), match='c'>\n",
            "<re.Match object; span=(21, 22), match='1'>\n",
            "<re.Match object; span=(22, 23), match='2'>\n",
            "<re.Match object; span=(23, 24), match='3'>\n",
            "<re.Match object; span=(25, 26), match='d'>\n",
            "<re.Match object; span=(26, 27), match='e'>\n",
            "<re.Match object; span=(27, 28), match='f'>\n",
            "<re.Match object; span=(29, 30), match='G'>\n",
            "<re.Match object; span=(30, 31), match='H'>\n",
            "<re.Match object; span=(31, 32), match='I'>\n",
            "<re.Match object; span=(33, 34), match='x'>\n",
            "<re.Match object; span=(34, 35), match='y'>\n",
            "<re.Match object; span=(35, 36), match='z'>\n",
            "<re.Match object; span=(38, 39), match='A'>\n",
            "<re.Match object; span=(39, 40), match='B'>\n",
            "<re.Match object; span=(40, 41), match='C'>\n",
            "<re.Match object; span=(42, 43), match='i'>\n"
          ]
        }
      ],
      "source": [
        "print(test_string_2, end=\"\\n\\n\")\n",
        "\n",
        "pattern  = re.compile(r\"[\\w]\") # search for alphabets+nuumerical characters in text\n",
        "\n",
        "matches = re.finditer(pattern, test_string_2)\n",
        "\n",
        "for match in matches:\n",
        "\tprint(match)"
      ]
    },
    {
      "cell_type": "code",
      "execution_count": null,
      "id": "34baa5d7-5ab9-48e4-8992-2cd277da1bad",
      "metadata": {
        "id": "34baa5d7-5ab9-48e4-8992-2cd277da1bad"
      },
      "outputs": [],
      "source": [
        "# not alphanumeric"
      ]
    },
    {
      "cell_type": "code",
      "execution_count": null,
      "id": "733cb9fd-f78f-49df-aee5-5ccf5958831e",
      "metadata": {
        "colab": {
          "base_uri": "https://localhost:8080/"
        },
        "id": "733cb9fd-f78f-49df-aee5-5ccf5958831e",
        "outputId": "61e93977-15f7-4387-e2da-90dc5e13b890"
      },
      "outputs": [
        {
          "output_type": "stream",
          "name": "stdout",
          "text": [
            "123abc.4567\n",
            "XYZ$89abc123 def%GHI\n",
            "xyz .ABC#i.\n",
            "\n",
            "<re.Match object; span=(6, 7), match='.'>\n",
            "<re.Match object; span=(11, 12), match='\\n'>\n",
            "<re.Match object; span=(15, 16), match='$'>\n",
            "<re.Match object; span=(24, 25), match=' '>\n",
            "<re.Match object; span=(28, 29), match='%'>\n",
            "<re.Match object; span=(32, 33), match='\\n'>\n",
            "<re.Match object; span=(36, 37), match=' '>\n",
            "<re.Match object; span=(37, 38), match='.'>\n",
            "<re.Match object; span=(41, 42), match='#'>\n",
            "<re.Match object; span=(43, 44), match='.'>\n"
          ]
        }
      ],
      "source": [
        "print(test_string_2, end=\"\\n\\n\")\n",
        "\n",
        "pattern  = re.compile(r\"[\\W]\") # search for other than alphabets+nuumerical characters in text which includes \\n and special chars and whitespaces\n",
        "\n",
        "matches = re.finditer(pattern, test_string_2)\n",
        "\n",
        "for match in matches:\n",
        "\tprint(match)"
      ]
    },
    {
      "cell_type": "code",
      "execution_count": null,
      "id": "115e9d50-0240-47d2-84ad-83129eefeb98",
      "metadata": {
        "id": "115e9d50-0240-47d2-84ad-83129eefeb98"
      },
      "outputs": [],
      "source": [
        "# word boundary"
      ]
    },
    {
      "cell_type": "code",
      "execution_count": null,
      "id": "08df0910-571b-433a-9575-0dfc1d13b653",
      "metadata": {
        "colab": {
          "base_uri": "https://localhost:8080/",
          "height": 36
        },
        "id": "08df0910-571b-433a-9575-0dfc1d13b653",
        "outputId": "f995314d-e863-4449-fa68-caaea81ca893"
      },
      "outputs": [
        {
          "output_type": "execute_result",
          "data": {
            "text/plain": [
              "'heyhello 123_ heyho hohey'"
            ],
            "application/vnd.google.colaboratory.intrinsic+json": {
              "type": "string"
            }
          },
          "metadata": {},
          "execution_count": 737
        }
      ],
      "source": [
        "test_string_3"
      ]
    },
    {
      "cell_type": "code",
      "execution_count": null,
      "id": "869193ac-02fc-40ad-91b0-41db2c084c8d",
      "metadata": {
        "colab": {
          "base_uri": "https://localhost:8080/"
        },
        "id": "869193ac-02fc-40ad-91b0-41db2c084c8d",
        "outputId": "147c53fc-983c-4bbb-d7b0-2b3a2a8776f0"
      },
      "outputs": [
        {
          "output_type": "stream",
          "name": "stdout",
          "text": [
            "<re.Match object; span=(0, 3), match='hey'>\n",
            "<re.Match object; span=(14, 17), match='hey'>\n",
            "<re.Match object; span=(22, 25), match='hey'>\n"
          ]
        }
      ],
      "source": [
        "pattern = re.compile(r\"hey\")\n",
        "\n",
        "matches = re.finditer(pattern, test_string_3)\n",
        "\n",
        "for match in matches:\n",
        "\tprint(match)"
      ]
    },
    {
      "cell_type": "code",
      "execution_count": null,
      "id": "cb155437",
      "metadata": {
        "id": "cb155437"
      },
      "outputs": [],
      "source": [
        "pattern = re.compile(r\"\\bhey\\b\")\n",
        "# pattern = re.compile(r\"hey\\b\")\n",
        "# pattern = re.compile(r\"\\bhey\")\n",
        "\n",
        "matches = re.finditer(pattern, test_string_3)\n",
        "\n",
        "for match in matches:\n",
        "\tprint(match)"
      ]
    },
    {
      "cell_type": "markdown",
      "id": "36f92bd1-6004-40d9-b686-0d5c8ad77fc3",
      "metadata": {
        "id": "36f92bd1-6004-40d9-b686-0d5c8ad77fc3"
      },
      "source": [
        "## 6. Quantifiers"
      ]
    },
    {
      "cell_type": "code",
      "execution_count": null,
      "id": "ca85397b-b01d-441c-b6e8-e27eec0745d6",
      "metadata": {
        "id": "ca85397b-b01d-441c-b6e8-e27eec0745d6"
      },
      "outputs": [],
      "source": [
        "test_string_1 = \"no no noo nooo noooothing noo\"\n",
        "\n",
        "test_string_2 = \"The colour of the sky and the color of the ocean are different.\"\n",
        "\n",
        "test_string_3 = \"We can use either http or https to generate URLs.\"\n",
        "\n",
        "test_string_4 = \"aaXaaaXaaaaXaaaaaX\"\n",
        "\n",
        "test_string_5 = \"<div>First div</div><div>Second div</div>\""
      ]
    },
    {
      "cell_type": "markdown",
      "id": "28b487f5-b26f-4fcc-b1b1-e7ff77aabc36",
      "metadata": {
        "id": "28b487f5-b26f-4fcc-b1b1-e7ff77aabc36"
      },
      "source": [
        "### 6.1 Greedy"
      ]
    },
    {
      "cell_type": "code",
      "execution_count": null,
      "id": "ce6c00d8-9102-459c-a82d-1524bfd085a3",
      "metadata": {
        "colab": {
          "base_uri": "https://localhost:8080/",
          "height": 36
        },
        "id": "ce6c00d8-9102-459c-a82d-1524bfd085a3",
        "outputId": "8897a184-410d-489f-b010-2929db981c0b"
      },
      "outputs": [
        {
          "output_type": "execute_result",
          "data": {
            "text/plain": [
              "'no no noo nooo noooothing noo'"
            ],
            "application/vnd.google.colaboratory.intrinsic+json": {
              "type": "string"
            }
          },
          "metadata": {},
          "execution_count": 741
        }
      ],
      "source": [
        "test_string_1"
      ]
    },
    {
      "cell_type": "code",
      "execution_count": null,
      "id": "3404b821-279f-4eec-948a-9a80524de8d6",
      "metadata": {
        "colab": {
          "base_uri": "https://localhost:8080/"
        },
        "id": "3404b821-279f-4eec-948a-9a80524de8d6",
        "outputId": "aae75071-d60f-4bd0-d56f-c9bf5fb76ab9"
      },
      "outputs": [
        {
          "output_type": "stream",
          "name": "stdout",
          "text": [
            "<re.Match object; span=(0, 2), match='no'>\n",
            "<re.Match object; span=(3, 5), match='no'>\n",
            "<re.Match object; span=(6, 9), match='noo'>\n",
            "<re.Match object; span=(10, 14), match='nooo'>\n",
            "<re.Match object; span=(15, 20), match='noooo'>\n",
            "<re.Match object; span=(26, 29), match='noo'>\n"
          ]
        }
      ],
      "source": [
        "# * is for 0 or more occurences of preceding(pichewala) char\n",
        "pattern = re.compile(r\"noo*\")\n",
        "\n",
        "matches = re.finditer(pattern, test_string_1) # it will check if no(0-o), noo(1-o), nooo(2-o's) a.... and so on until string get terminated\n",
        "\n",
        "for match in matches:\n",
        "\tprint(match)"
      ]
    },
    {
      "cell_type": "code",
      "execution_count": null,
      "id": "075bf4ed-07b1-4456-86da-1ae1cb3d1bc6",
      "metadata": {
        "colab": {
          "base_uri": "https://localhost:8080/"
        },
        "id": "075bf4ed-07b1-4456-86da-1ae1cb3d1bc6",
        "outputId": "764391ef-cdd0-4bdc-a589-c0e1d0474e69"
      },
      "outputs": [
        {
          "output_type": "stream",
          "name": "stdout",
          "text": [
            "<re.Match object; span=(6, 9), match='noo'>\n",
            "<re.Match object; span=(10, 14), match='nooo'>\n",
            "<re.Match object; span=(15, 20), match='noooo'>\n",
            "<re.Match object; span=(26, 29), match='noo'>\n"
          ]
        }
      ],
      "source": [
        "# + is for 1 or more occurences of preceding(pichewala) char\n",
        "pattern = re.compile(r\"noo+\")\n",
        "\n",
        "matches = re.finditer(pattern, test_string_1) # it will check if noo(1-o), nooo(2-o's) a.... and so on until string get terminated\n",
        "\n",
        "for match in matches:\n",
        "\tprint(match)"
      ]
    },
    {
      "cell_type": "code",
      "execution_count": null,
      "id": "60a3982e-535e-4640-a5e9-a13c38835bba",
      "metadata": {
        "colab": {
          "base_uri": "https://localhost:8080/"
        },
        "id": "60a3982e-535e-4640-a5e9-a13c38835bba",
        "outputId": "1b59374e-7a37-4392-ca47-a032f99300b9"
      },
      "outputs": [
        {
          "output_type": "stream",
          "name": "stdout",
          "text": [
            "The colour of the sky and the color of the ocean are different.\n",
            "\n",
            "<re.Match object; span=(4, 10), match='colour'>\n",
            "<re.Match object; span=(30, 35), match='color'>\n"
          ]
        }
      ],
      "source": [
        "# ? is for 0 or 1 occurence of preceding(pichewala) char\n",
        "print(test_string_2, end=\"\\n\\n\")\n",
        "\n",
        "pattern = re.compile(r\"colou?r\") # colour, color/ if u is present none or once in string\n",
        "\n",
        "matches = re.finditer(pattern, test_string_2)\n",
        "\n",
        "for match in matches:\n",
        "\tprint(match)"
      ]
    },
    {
      "cell_type": "code",
      "execution_count": null,
      "id": "98804bee-302c-45b3-90c4-ac957fbae151",
      "metadata": {
        "colab": {
          "base_uri": "https://localhost:8080/"
        },
        "id": "98804bee-302c-45b3-90c4-ac957fbae151",
        "outputId": "b37d16e8-e4fa-4c0b-e4c4-17ec5eb8c701"
      },
      "outputs": [
        {
          "output_type": "stream",
          "name": "stdout",
          "text": [
            "We can use either http or https to generate URLs.\n",
            "\n",
            "<re.Match object; span=(18, 22), match='http'>\n",
            "<re.Match object; span=(26, 31), match='https'>\n"
          ]
        }
      ],
      "source": [
        "#2nd example of using greedy qunatifier '?'\n",
        "print(test_string_3, end=\"\\n\\n\")\n",
        "\n",
        "pattern = re.compile(r\"https?\") # http, https\n",
        "\n",
        "matches = re.finditer(pattern, test_string_3)\n",
        "\n",
        "for match in matches:\n",
        "\tprint(match)"
      ]
    },
    {
      "cell_type": "code",
      "execution_count": null,
      "id": "187de5d1-bd94-4771-8559-3229046f8242",
      "metadata": {
        "colab": {
          "base_uri": "https://localhost:8080/"
        },
        "id": "187de5d1-bd94-4771-8559-3229046f8242",
        "outputId": "d5da8bd6-d386-4fac-b5f4-959ede9ca313"
      },
      "outputs": [
        {
          "output_type": "stream",
          "name": "stdout",
          "text": [
            "aaXaaaXaaaaXaaaaaaX\n",
            "\n",
            "<re.Match object; span=(3, 6), match='aaa'>\n",
            "<re.Match object; span=(7, 10), match='aaa'>\n",
            "<re.Match object; span=(12, 15), match='aaa'>\n",
            "<re.Match object; span=(15, 18), match='aaa'>\n"
          ]
        }
      ],
      "source": [
        "# {n} search for exactly n number of occurences in string\n",
        "test_string_4 = 'aaXaaaXaaaaXaaaaaaX'\n",
        "print(test_string_4, end=\"\\n\\n\")\n",
        "\n",
        "pattern = re.compile(r\"a{3}\") # it will search for a's occurring continously thrice\n",
        "\n",
        "matches = re.finditer(pattern, test_string_4)\n",
        "\n",
        "for match in matches:\n",
        "\tprint(match)"
      ]
    },
    {
      "cell_type": "code",
      "execution_count": null,
      "id": "05529fa1",
      "metadata": {
        "colab": {
          "base_uri": "https://localhost:8080/"
        },
        "id": "05529fa1",
        "outputId": "299db6e7-1039-4697-ad38-ca6d520b6882"
      },
      "outputs": [
        {
          "output_type": "stream",
          "name": "stdout",
          "text": [
            "aaXaaaXaaaaXaaaaaaX\n",
            "\n",
            "<re.Match object; span=(0, 2), match='aa'>\n",
            "<re.Match object; span=(3, 6), match='aaa'>\n",
            "<re.Match object; span=(7, 11), match='aaaa'>\n",
            "<re.Match object; span=(12, 17), match='aaaaa'>\n"
          ]
        }
      ],
      "source": [
        "# {n,m} search for exactly at least n and at most m number of occurences in string\n",
        "print(test_string_4, end=\"\\n\\n\")\n",
        "\n",
        "pattern = re.compile(r\"a{2,5}\") # first search if a is present 5 times or 4 times or 3 or 2\n",
        "\n",
        "matches = re.finditer(pattern, test_string_4)\n",
        "\n",
        "for match in matches:\n",
        "\tprint(match)"
      ]
    },
    {
      "cell_type": "markdown",
      "id": "13753e49-279e-4d36-8e6c-0259cc719c25",
      "metadata": {
        "id": "13753e49-279e-4d36-8e6c-0259cc719c25"
      },
      "source": [
        "### 6.2 Lazy"
      ]
    },
    {
      "cell_type": "code",
      "execution_count": null,
      "id": "4556339e-d092-4ca6-b069-d2415fe5453f",
      "metadata": {
        "colab": {
          "base_uri": "https://localhost:8080/"
        },
        "id": "4556339e-d092-4ca6-b069-d2415fe5453f",
        "outputId": "57b5b7f7-05a7-4d5e-dd6b-74b881ed17ca"
      },
      "outputs": [
        {
          "output_type": "stream",
          "name": "stdout",
          "text": [
            "no no noo nooo noooothing noo\n",
            "\n",
            "<re.Match object; span=(0, 2), match='no'>\n",
            "<re.Match object; span=(3, 5), match='no'>\n",
            "<re.Match object; span=(6, 8), match='no'>\n",
            "<re.Match object; span=(10, 12), match='no'>\n",
            "<re.Match object; span=(15, 17), match='no'>\n",
            "<re.Match object; span=(26, 28), match='no'>\n"
          ]
        }
      ],
      "source": [
        "# ? after greedy quantifier search for minimum number of occurrence of that pattern in string\n",
        "print(test_string_1, end=\"\\n\\n\")\n",
        "\n",
        "pattern = re.compile(r\"noo*?\") # ? after greedy quantifier search is equivalent to lazy\n",
        "\"\"\"\n",
        "it will search for no first and return them only if found other it will search for noo  and\n",
        "terminate if found otherwise nooo\n",
        "\"\"\"\n",
        "\n",
        "matches = re.finditer(pattern, test_string_1)\n",
        "\n",
        "for match in matches:\n",
        "\tprint(match)"
      ]
    },
    {
      "cell_type": "code",
      "execution_count": null,
      "id": "3d1a762a",
      "metadata": {
        "colab": {
          "base_uri": "https://localhost:8080/"
        },
        "id": "3d1a762a",
        "outputId": "9f375781-302b-42be-cd5d-e8991d6395cf"
      },
      "outputs": [
        {
          "output_type": "stream",
          "name": "stdout",
          "text": [
            "no no noo nooo noooothing noo\n",
            "\n",
            "<re.Match object; span=(6, 9), match='noo'>\n",
            "<re.Match object; span=(10, 13), match='noo'>\n",
            "<re.Match object; span=(15, 18), match='noo'>\n",
            "<re.Match object; span=(26, 29), match='noo'>\n"
          ]
        }
      ],
      "source": [
        "# +?\n",
        "print(test_string_1, end=\"\\n\\n\")\n",
        "\n",
        "pattern = re.compile(r\"noo+?\") # + search for 1 or more , ? after that tells it is a lazy quantifier so it will search for 1 first then if not terminated then 2..3..4 etc\n",
        "\n",
        "matches = re.finditer(pattern, test_string_1)\n",
        "\n",
        "for match in matches:\n",
        "\tprint(match)"
      ]
    },
    {
      "cell_type": "code",
      "execution_count": null,
      "id": "5cd4d3db-f4bf-4cc8-b762-5db855c26b32",
      "metadata": {
        "colab": {
          "base_uri": "https://localhost:8080/"
        },
        "id": "5cd4d3db-f4bf-4cc8-b762-5db855c26b32",
        "outputId": "7f086d7c-3338-4e12-9fd7-1c845a7d589e"
      },
      "outputs": [
        {
          "output_type": "stream",
          "name": "stdout",
          "text": [
            "aaXaaaXaaaaXaaaaaaX\n",
            "\n",
            "<re.Match object; span=(0, 2), match='aa'>\n",
            "<re.Match object; span=(3, 5), match='aa'>\n",
            "<re.Match object; span=(7, 9), match='aa'>\n",
            "<re.Match object; span=(9, 11), match='aa'>\n",
            "<re.Match object; span=(12, 14), match='aa'>\n",
            "<re.Match object; span=(14, 16), match='aa'>\n",
            "<re.Match object; span=(16, 18), match='aa'>\n"
          ]
        }
      ],
      "source": [
        "#{n,m}?\n",
        "print(test_string_4, end=\"\\n\\n\")\n",
        "\n",
        "pattern = re.compile(r\"a{2,5}?\") # {n,m} search for n till m , ? after that tells it is a lazy quantifier so it will search for 2 first then if not terminated then 3..4..5 and terminate\n",
        "#❗❗ difference in greedy and lazy qunatifier here\n",
        "matches = re.finditer(pattern, test_string_4)\n",
        "\n",
        "for match in matches:\n",
        "\tprint(match)"
      ]
    },
    {
      "cell_type": "code",
      "execution_count": null,
      "id": "530f72d1",
      "metadata": {
        "colab": {
          "base_uri": "https://localhost:8080/"
        },
        "id": "530f72d1",
        "outputId": "2e928726-a7d8-47f7-84b9-17fb787945af"
      },
      "outputs": [
        {
          "output_type": "stream",
          "name": "stdout",
          "text": [
            "<div>First div</div><div>Second div</div>\n",
            "\n"
          ]
        },
        {
          "output_type": "execute_result",
          "data": {
            "text/plain": [
              "['<div>First div</div><div>Second div</div>']"
            ]
          },
          "metadata": {},
          "execution_count": 751
        }
      ],
      "source": [
        "print(test_string_5, end=\"\\n\\n\")\n",
        "\n",
        "pattern = re.compile(r\"<\\w+>.*</\\w+>\") # \\w search for alphanumeric characters .* will tell to match any number of occurence\n",
        "\n",
        "matches = re.findall(pattern, test_string_5)\n",
        "matches"
      ]
    },
    {
      "cell_type": "code",
      "execution_count": null,
      "id": "577e3863",
      "metadata": {
        "colab": {
          "base_uri": "https://localhost:8080/"
        },
        "id": "577e3863",
        "outputId": "1a41bbf2-b971-4793-8c30-8f2f2f373583"
      },
      "outputs": [
        {
          "output_type": "stream",
          "name": "stdout",
          "text": [
            "<div>First div</div><div>Second div</div>\n",
            "\n"
          ]
        },
        {
          "output_type": "execute_result",
          "data": {
            "text/plain": [
              "['<div>First div</div>', '<div>Second div</div>']"
            ]
          },
          "metadata": {},
          "execution_count": 752
        }
      ],
      "source": [
        "print(test_string_5, end=\"\\n\\n\")\n",
        "\n",
        "pattern = re.compile(r\"<\\w+>.*?</\\w+>\") # \\w search for alphanumeric characters .* will tell to match 0 or 1 number of occurence\n",
        "\n",
        "matches = re.findall(pattern, test_string_5)\n",
        "matches"
      ]
    }
  ],
  "metadata": {
    "kernelspec": {
      "display_name": "demo",
      "language": "python",
      "name": "demo"
    },
    "language_info": {
      "codemirror_mode": {
        "name": "ipython",
        "version": 3
      },
      "file_extension": ".py",
      "mimetype": "text/x-python",
      "name": "python",
      "nbconvert_exporter": "python",
      "pygments_lexer": "ipython3",
      "version": "3.11.1"
    },
    "colab": {
      "provenance": [],
      "include_colab_link": true
    }
  },
  "nbformat": 4,
  "nbformat_minor": 5
}